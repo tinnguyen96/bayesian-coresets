{
 "cells": [
  {
   "cell_type": "code",
   "execution_count": 8,
   "metadata": {
    "scrolled": false
   },
   "outputs": [],
   "source": [
    "from __future__ import print_function\n",
    "import numpy as np\n",
    "import bayesiancoresets as bc\n",
    "from scipy.optimize import minimize\n",
    "from scipy.linalg import solve_triangular\n",
    "import time\n",
    "import sys, os\n",
    "import argparse\n",
    "import pandas as pd\n",
    "import pystan\n",
    "import pickle\n",
    "\n",
    "#make it so we can import models/etc from parent folder\n",
    "sys.path.insert(1, os.path.join(sys.path[0], '../../examples/common'))\n",
    "import mcmc\n",
    "import results\n",
    "import plotting\n",
    "import radon"
   ]
  },
  {
   "cell_type": "code",
   "execution_count": 2,
   "metadata": {},
   "outputs": [
    {
     "name": "stdout",
     "output_type": "stream",
     "text": [
      "Creating likelihood evaluator\n"
     ]
    }
   ],
   "source": [
    "data_dict_, prior_dict_ = radon.load_data()\n",
    "\n",
    "stan_representation = radon.weighted_varying_intercept\n",
    "\n",
    "# load stanfit (or make one if no cache exists)\n",
    "path_with_data = 'stancache/weighted_radon.pkl'\n",
    "if os.path.isfile(path_with_data):\n",
    "    sm = pickle.load(open(path_with_data, 'rb'))\n",
    "else:\n",
    "    sm = pystan.StanModel(model_code=stan_representation)\n",
    "    with open(path_with_data, 'wb') as f: pickle.dump(sm, f)\n",
    "        \n",
    "path_without_data = 'stancache/radon_prior.pkl'\n",
    "if os.path.isfile(path_without_data):\n",
    "    sm_prior = pickle.load(open(path_without_data, 'rb'))\n",
    "else:\n",
    "    sm_prior = pystan.StanModel(model_code=radon.prior_code)\n",
    "    with open(path_without_data, 'wb') as f: pickle.dump(sm_prior, f)\n",
    "\n",
    "## load pystan fit object, which has functions to eval log_likelihood\n",
    "## we don't really need the samples from this stanfit, but it's convenient\n",
    "## to automatically evaluate log_likelihood (as opposed to making a separate\n",
    "## function to do it)\n",
    "\n",
    "print('Creating likelihood evaluator')\n",
    "stanfit = sm.sampling(data=data_dict_)\n",
    "# print(stanfit)\n",
    "likelihood = lambda pts, th: stanfit.log_prob(stanfit.unconstrain_pars(th))"
   ]
  },
  {
   "cell_type": "code",
   "execution_count": 14,
   "metadata": {},
   "outputs": [
    {
     "name": "stdout",
     "output_type": "stream",
     "text": [
      "      chain  draw  warmup      a[1]      a[2]      a[3]      a[4]      a[5]  \\\n",
      "0         0     0       0  1.189427  1.057700  1.515686  1.698822  1.401264   \n",
      "1         0     1       0  1.113355  0.858175  1.590796  1.474603  1.584321   \n",
      "2         0     2       0  1.413810  0.926201  1.500945  1.518574  1.227224   \n",
      "3         0     3       0  0.970928  0.927210  1.185009  1.368137  1.993872   \n",
      "4         0     4       0  0.838918  0.913898  1.497293  1.434749  1.122874   \n",
      "...     ...   ...     ...       ...       ...       ...       ...       ...   \n",
      "3995      3   995       0  0.995801  1.069703  2.020472  1.791328  1.437761   \n",
      "3996      3   996       0  1.466538  0.883083  0.932998  1.364765  1.540371   \n",
      "3997      3   997       0  0.881978  1.053876  1.890008  1.632381  1.282603   \n",
      "3998      3   998       0  1.687193  0.896655  1.096194  1.400984  1.700222   \n",
      "3999      3   999       0  0.828805  0.946414  1.819765  1.850988  1.623895   \n",
      "\n",
      "          a[6]      a[7]  ...  y_hat[917]  y_hat[918]  y_hat[919]        lp__  \\\n",
      "0     1.586581  2.363808  ...    1.781315    1.402530    1.402530 -972.586649   \n",
      "1     1.610613  1.440765  ...    1.495884    1.641058    1.641058 -960.913764   \n",
      "2     1.345355  1.700564  ...    1.393490    1.373909    1.373909 -951.530243   \n",
      "3     1.365338  2.018916  ...    1.947005    1.348841    1.348841 -960.703035   \n",
      "4     0.820131  1.821688  ...    1.612381    1.451403    1.451403 -963.808075   \n",
      "...        ...       ...  ...         ...         ...         ...         ...   \n",
      "3995  1.539417  1.399629  ...    1.622783    1.394294    1.394294 -960.285215   \n",
      "3996  1.517790  2.410568  ...    1.691478    1.518066    1.518066 -965.517291   \n",
      "3997  1.483357  1.376262  ...    1.484793    1.315860    1.315860 -964.919494   \n",
      "3998  1.335688  2.238815  ...    1.769761    1.480986    1.480986 -968.627947   \n",
      "3999  1.810532  2.012632  ...    1.508659    1.505056    1.505056 -966.655646   \n",
      "\n",
      "      accept_stat__  stepsize__  treedepth__  n_leapfrog__  divergent__  \\\n",
      "0          0.992280    0.369226            4            15            0   \n",
      "1          1.000000    0.369226            4            15            0   \n",
      "2          0.984163    0.369226            4            15            0   \n",
      "3          0.773657    0.369226            4            15            0   \n",
      "4          0.876804    0.369226            4            15            0   \n",
      "...             ...         ...          ...           ...          ...   \n",
      "3995       0.959101    0.385230            4            31            0   \n",
      "3996       0.829760    0.385230            4            15            0   \n",
      "3997       0.998633    0.385230            4            15            0   \n",
      "3998       0.982387    0.385230            4            15            0   \n",
      "3999       0.976295    0.385230            4            15            0   \n",
      "\n",
      "         energy__  \n",
      "0     1029.249278  \n",
      "1     1008.394145  \n",
      "2      998.878933  \n",
      "3     1001.297054  \n",
      "4     1009.342279  \n",
      "...           ...  \n",
      "3995   999.626600  \n",
      "3996  1015.053825  \n",
      "3997  1011.757860  \n",
      "3998  1013.329008  \n",
      "3999  1012.817307  \n",
      "\n",
      "[4000 rows x 1018 columns]\n"
     ]
    }
   ],
   "source": [
    "df = stanfit.to_dataframe()\n",
    "print(df)"
   ]
  },
  {
   "cell_type": "code",
   "execution_count": 18,
   "metadata": {},
   "outputs": [
    {
     "data": {
      "text/plain": [
       "Index(['chain', 'draw', 'warmup', 'a[10]', 'a[11]', 'a[12]', 'a[13]', 'a[14]',\n",
       "       'a[15]', 'a[16]', 'a[17]', 'a[18]', 'a[19]', 'a[1]', 'a[20]', 'a[21]',\n",
       "       'a[22]', 'a[23]', 'a[24]', 'a[25]', 'a[26]', 'a[27]', 'a[28]', 'a[29]',\n",
       "       'a[2]', 'a[30]', 'a[31]', 'a[32]', 'a[33]', 'a[34]', 'a[35]', 'a[36]',\n",
       "       'a[37]', 'a[38]', 'a[39]', 'a[3]', 'a[40]', 'a[41]', 'a[42]', 'a[43]',\n",
       "       'a[44]', 'a[45]', 'a[46]', 'a[47]', 'a[48]', 'a[49]', 'a[4]', 'a[50]',\n",
       "       'a[51]', 'a[52]', 'a[53]', 'a[54]', 'a[55]', 'a[56]', 'a[57]', 'a[58]',\n",
       "       'a[59]', 'a[5]', 'a[60]', 'a[61]', 'a[62]', 'a[63]', 'a[64]', 'a[65]',\n",
       "       'a[66]', 'a[67]', 'a[68]', 'a[69]', 'a[6]', 'a[70]', 'a[71]', 'a[72]',\n",
       "       'a[73]', 'a[74]', 'a[75]', 'a[76]', 'a[77]', 'a[78]', 'a[79]', 'a[7]',\n",
       "       'a[80]', 'a[81]', 'a[82]', 'a[83]', 'a[84]', 'a[85]', 'a[8]', 'a[9]',\n",
       "       'accept_stat__', 'stepsize__', 'treedepth__', 'n_leapfrog__',\n",
       "       'divergent__', 'energy__'],\n",
       "      dtype='object')"
      ]
     },
     "execution_count": 18,
     "metadata": {},
     "output_type": "execute_result"
    }
   ],
   "source": [
    "df = stanfit.to_dataframe(\"a\")\n",
    "# print(df)\n",
    "df.head()\n",
    "df.columns"
   ]
  },
  {
   "cell_type": "code",
   "execution_count": null,
   "metadata": {},
   "outputs": [],
   "source": []
  }
 ],
 "metadata": {
  "kernelspec": {
   "display_name": "Python [conda env:.conda-pystan]",
   "language": "python",
   "name": "conda-env-.conda-pystan-py"
  },
  "language_info": {
   "codemirror_mode": {
    "name": "ipython",
    "version": 3
   },
   "file_extension": ".py",
   "mimetype": "text/x-python",
   "name": "python",
   "nbconvert_exporter": "python",
   "pygments_lexer": "ipython3",
   "version": "3.8.10"
  },
  "latex_envs": {
   "LaTeX_envs_menu_present": true,
   "autoclose": false,
   "autocomplete": true,
   "bibliofile": "biblio.bib",
   "cite_by": "apalike",
   "current_citInitial": 1,
   "eqLabelWithNumbers": true,
   "eqNumInitial": 1,
   "hotkeys": {
    "equation": "Ctrl-E",
    "itemize": "Ctrl-I"
   },
   "labels_anchors": false,
   "latex_user_defs": false,
   "report_style_numbering": false,
   "user_envs_cfg": false
  },
  "toc": {
   "base_numbering": 1,
   "nav_menu": {},
   "number_sections": true,
   "sideBar": true,
   "skip_h1_title": false,
   "title_cell": "Table of Contents",
   "title_sidebar": "Contents",
   "toc_cell": false,
   "toc_position": {},
   "toc_section_display": true,
   "toc_window_display": false
  },
  "varInspector": {
   "cols": {
    "lenName": 16,
    "lenType": 16,
    "lenVar": 40
   },
   "kernels_config": {
    "python": {
     "delete_cmd_postfix": "",
     "delete_cmd_prefix": "del ",
     "library": "var_list.py",
     "varRefreshCmd": "print(var_dic_list())"
    },
    "r": {
     "delete_cmd_postfix": ") ",
     "delete_cmd_prefix": "rm(",
     "library": "var_list.r",
     "varRefreshCmd": "cat(var_dic_list()) "
    }
   },
   "types_to_exclude": [
    "module",
    "function",
    "builtin_function_or_method",
    "instance",
    "_Feature"
   ],
   "window_display": false
  }
 },
 "nbformat": 4,
 "nbformat_minor": 2
}
