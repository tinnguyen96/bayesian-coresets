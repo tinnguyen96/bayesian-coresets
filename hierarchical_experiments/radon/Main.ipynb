{
 "cells": [
  {
   "cell_type": "code",
   "execution_count": 2,
   "metadata": {
    "scrolled": false
   },
   "outputs": [],
   "source": [
    "from __future__ import print_function\n",
    "import numpy as np\n",
    "import bayesiancoresets as bc\n",
    "from scipy.optimize import minimize\n",
    "from scipy.linalg import solve_triangular\n",
    "import time\n",
    "import sys, os\n",
    "import argparse\n",
    "import pandas as pd\n",
    "import pystan\n",
    "import pickle\n",
    "\n",
    "#make it so we can import models/etc from parent folder\n",
    "sys.path.insert(1, os.path.join(sys.path[0], '../../examples/common'))\n",
    "import results\n",
    "import plotting\n",
    "import radon"
   ]
  },
  {
   "cell_type": "code",
   "execution_count": 3,
   "metadata": {},
   "outputs": [],
   "source": [
    "import importlib; importlib.reload(radon); "
   ]
  },
  {
   "cell_type": "code",
   "execution_count": 4,
   "metadata": {},
   "outputs": [],
   "source": [
    "data_dict_ = radon.load_data()\n",
    "\n",
    "# load stanfit (or make one if no cache exists)\n",
    "path_with_data = 'stancache/weighted_radon.pkl'\n",
    "if os.path.isfile(path_with_data):\n",
    "    sm = pickle.load(open(path_with_data, 'rb'))\n",
    "else:\n",
    "    sm = pystan.StanModel(model_code=radon.weighted_varying_intercept)\n",
    "    with open(path_with_data, 'wb') as f: pickle.dump(sm, f)\n",
    "        \n",
    "path_without_data = 'stancache/radon_prior.pkl'\n",
    "if os.path.isfile(path_without_data):\n",
    "    sm_prior = pickle.load(open(path_without_data, 'rb'))\n",
    "else:\n",
    "    sm_prior = pystan.StanModel(model_code=radon.prior_code)\n",
    "    with open(path_without_data, 'wb') as f: pickle.dump(sm_prior, f)\n",
    "\n",
    "## load pystan fit object, which has functions to eval log_likelihood\n",
    "## we don't really need the samples from this stanfit, but it's convenient\n",
    "## to automatically evaluate log_likelihood (as opposed to making a separate\n",
    "## function to do it)\n",
    "\n",
    "stanfit = sm.sampling(data=data_dict_)\n",
    "# print(stanfit)\n",
    "priorfit = sm_prior.sampling(data=data_dict_)\n",
    "# likelihood = lambda pts, th: stanfit.log_prob(stanfit.unconstrain_pars(th))"
   ]
  },
  {
   "cell_type": "code",
   "execution_count": 5,
   "metadata": {},
   "outputs": [],
   "source": [
    "stanfit = sm.sampling(data=data_dict_, verbose=True)"
   ]
  },
  {
   "cell_type": "markdown",
   "metadata": {},
   "source": [
    "## Compare prior and posterior samples"
   ]
  },
  {
   "cell_type": "code",
   "execution_count": null,
   "metadata": {},
   "outputs": [],
   "source": [
    "import matplotlib.pyplot as plt\n",
    "\n",
    "fig, axes = plt.subplots(1,2)\n",
    "\n",
    "post_df = stanfit.to_dataframe()\n",
    "pri_df = priorfit.to_dataframe()\n",
    "var_name = \"a[1]\"\n",
    "\n",
    "axes[0].hist(post_df[var_name])\n",
    "axes[0].set_title('posterior %s' %var_name)\n",
    "\n",
    "axes[1].hist(pri_df[var_name])\n",
    "axes[1].set_title('prior %s' %var_name)\n",
    "\n",
    "plt.tight_layout()\n",
    "plt.show()"
   ]
  },
  {
   "cell_type": "markdown",
   "metadata": {},
   "source": [
    "## Inspect the log likelihoods"
   ]
  },
  {
   "cell_type": "code",
   "execution_count": null,
   "metadata": {},
   "outputs": [],
   "source": [
    "n_list = range(1,3)\n",
    "for idx in n_list:\n",
    "    varname = \"ll[%d]\" %idx\n",
    "    plt.figure()\n",
    "    plt.hist(post_df[varname])\n",
    "    plt.show()\n",
    "    plt.close()"
   ]
  },
  {
   "cell_type": "code",
   "execution_count": null,
   "metadata": {},
   "outputs": [],
   "source": [
    "varnames = [\"ll[%s]\" %idx for idx in range(1,10)]\n",
    "sub_df = post_df[varnames]\n",
    "sub_df.head()"
   ]
  },
  {
   "cell_type": "code",
   "execution_count": null,
   "metadata": {},
   "outputs": [],
   "source": [
    "np.array(sub_df).T"
   ]
  }
 ],
 "metadata": {
  "kernelspec": {
   "display_name": "Python [conda env:.conda-pystan]",
   "language": "python",
   "name": "conda-env-.conda-pystan-py"
  },
  "language_info": {
   "codemirror_mode": {
    "name": "ipython",
    "version": 3
   },
   "file_extension": ".py",
   "mimetype": "text/x-python",
   "name": "python",
   "nbconvert_exporter": "python",
   "pygments_lexer": "ipython3",
   "version": "3.8.10"
  },
  "latex_envs": {
   "LaTeX_envs_menu_present": true,
   "autoclose": false,
   "autocomplete": true,
   "bibliofile": "biblio.bib",
   "cite_by": "apalike",
   "current_citInitial": 1,
   "eqLabelWithNumbers": true,
   "eqNumInitial": 1,
   "hotkeys": {
    "equation": "Ctrl-E",
    "itemize": "Ctrl-I"
   },
   "labels_anchors": false,
   "latex_user_defs": false,
   "report_style_numbering": false,
   "user_envs_cfg": false
  },
  "toc": {
   "base_numbering": 1,
   "nav_menu": {},
   "number_sections": true,
   "sideBar": true,
   "skip_h1_title": false,
   "title_cell": "Table of Contents",
   "title_sidebar": "Contents",
   "toc_cell": false,
   "toc_position": {},
   "toc_section_display": true,
   "toc_window_display": false
  },
  "varInspector": {
   "cols": {
    "lenName": 16,
    "lenType": 16,
    "lenVar": 40
   },
   "kernels_config": {
    "python": {
     "delete_cmd_postfix": "",
     "delete_cmd_prefix": "del ",
     "library": "var_list.py",
     "varRefreshCmd": "print(var_dic_list())"
    },
    "r": {
     "delete_cmd_postfix": ") ",
     "delete_cmd_prefix": "rm(",
     "library": "var_list.r",
     "varRefreshCmd": "cat(var_dic_list()) "
    }
   },
   "types_to_exclude": [
    "module",
    "function",
    "builtin_function_or_method",
    "instance",
    "_Feature"
   ],
   "window_display": false
  }
 },
 "nbformat": 4,
 "nbformat_minor": 2
}
