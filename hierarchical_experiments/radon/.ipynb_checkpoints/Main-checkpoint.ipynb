{
 "cells": [
  {
   "cell_type": "code",
   "execution_count": 7,
   "metadata": {
    "scrolled": false
   },
   "outputs": [],
   "source": [
    "from __future__ import print_function\n",
    "import numpy as np\n",
    "import bayesiancoresets as bc\n",
    "from scipy.optimize import minimize\n",
    "from scipy.linalg import solve_triangular\n",
    "import time\n",
    "import sys, os\n",
    "import argparse\n",
    "import pandas as pd\n",
    "import pystan\n",
    "import pickle\n",
    "\n",
    "#make it so we can import models/etc from parent folder\n",
    "sys.path.insert(1, os.path.join(sys.path[0], '../../examples/common'))\n",
    "import mcmc\n",
    "import results\n",
    "import plotting\n",
    "import radon"
   ]
  },
  {
   "cell_type": "code",
   "execution_count": 2,
   "metadata": {},
   "outputs": [
    {
     "name": "stdout",
     "output_type": "stream",
     "text": [
      "Creating likelihood evaluator\n"
     ]
    }
   ],
   "source": [
    "data_dict_, prior_dict_ = radon.load_data()\n",
    "\n",
    "stan_representation = radon.weighted_varying_intercept\n",
    "\n",
    "# load stanfit (or make one if no cache exists)\n",
    "path_with_data = 'stancache/weighted_radon.pkl'\n",
    "if os.path.isfile(path_with_data):\n",
    "    sm = pickle.load(open(path_with_data, 'rb'))\n",
    "else:\n",
    "    sm = pystan.StanModel(model_code=stan_representation)\n",
    "    with open(path_with_data, 'wb') as f: pickle.dump(sm, f)\n",
    "        \n",
    "path_without_data = 'stancache/radon_prior.pkl'\n",
    "if os.path.isfile(path_without_data):\n",
    "    sm_prior = pickle.load(open(path_without_data, 'rb'))\n",
    "else:\n",
    "    sm_prior = pystan.StanModel(model_code=radon.prior_code)\n",
    "    with open(path_without_data, 'wb') as f: pickle.dump(sm_prior, f)\n",
    "\n",
    "## load pystan fit object, which has functions to eval log_likelihood\n",
    "## we don't really need the samples from this stanfit, but it's convenient\n",
    "## to automatically evaluate log_likelihood (as opposed to making a separate\n",
    "## function to do it)\n",
    "\n",
    "print('Creating likelihood evaluator')\n",
    "stanfit = sm.sampling(data=data_dict_)\n",
    "# print(stanfit)\n",
    "likelihood = lambda pts, th: stanfit.log_prob(stanfit.unconstrain_pars(th))"
   ]
  },
  {
   "cell_type": "code",
   "execution_count": 6,
   "metadata": {
    "scrolled": true
   },
   "outputs": [
    {
     "name": "stdout",
     "output_type": "stream",
     "text": [
      "OrderedDict([('a', array([[1.51599423, 0.92256185, 2.03257863, ..., 1.94766429, 1.9326488 ,\n",
      "        1.43911502],\n",
      "       [1.33545428, 0.9782105 , 2.02154123, ..., 1.88188515, 1.75806622,\n",
      "        1.80291037],\n",
      "       [0.97419508, 0.91811746, 1.47677956, ..., 1.8825821 , 1.53742352,\n",
      "        1.57767701],\n",
      "       ...,\n",
      "       [1.37545483, 0.84031025, 1.12229309, ..., 1.56113598, 1.40522624,\n",
      "        0.9864163 ],\n",
      "       [1.18073683, 0.97223244, 1.6066042 , ..., 1.40746533, 1.62983749,\n",
      "        0.9305985 ],\n",
      "       [1.3047031 , 1.02252834, 1.60197748, ..., 1.78683387, 1.22224034,\n",
      "        1.12013663]])), ('b', array([-0.54145245, -0.76100424, -0.6408721 , ..., -0.59695206,\n",
      "       -0.6237589 , -0.73901616])), ('mu_a', array([1.59843271, 1.59206995, 1.50520668, ..., 1.38116645, 1.50353485,\n",
      "       1.44215674])), ('sigma_a', array([0.3231493 , 0.36892059, 0.30538051, ..., 0.27455535, 0.35876145,\n",
      "       0.25394961])), ('sigma_y', array([0.73686393, 0.70629095, 0.71837924, ..., 0.70951484, 0.72884293,\n",
      "       0.70933867])), ('y_hat', array([[0.97454178, 1.51599423, 1.51599423, ..., 1.9326488 , 1.43911502,\n",
      "        1.43911502],\n",
      "       [0.57445003, 1.33545428, 1.33545428, ..., 1.75806622, 1.80291037,\n",
      "        1.80291037],\n",
      "       [0.33332298, 0.97419508, 0.97419508, ..., 1.53742352, 1.57767701,\n",
      "        1.57767701],\n",
      "       ...,\n",
      "       [0.77850276, 1.37545483, 1.37545483, ..., 1.40522624, 0.9864163 ,\n",
      "        0.9864163 ],\n",
      "       [0.55697793, 1.18073683, 1.18073683, ..., 1.62983749, 0.9305985 ,\n",
      "        0.9305985 ],\n",
      "       [0.56568694, 1.3047031 , 1.3047031 , ..., 1.22224034, 1.12013663,\n",
      "        1.12013663]])), ('lp__', array([-961.94892174, -970.45186884, -964.66880377, ..., -968.022895  ,\n",
      "       -959.74771582, -945.92718119]))])\n"
     ]
    }
   ],
   "source": [
    "samples = stanfit.extract()\n",
    "print(samples)\n",
    "\n",
    "# print(stanfit)"
   ]
  },
  {
   "cell_type": "code",
   "execution_count": null,
   "metadata": {},
   "outputs": [],
   "source": []
  }
 ],
 "metadata": {
  "kernelspec": {
   "display_name": "Python [conda env:.conda-pystan]",
   "language": "python",
   "name": "conda-env-.conda-pystan-py"
  },
  "language_info": {
   "codemirror_mode": {
    "name": "ipython",
    "version": 3
   },
   "file_extension": ".py",
   "mimetype": "text/x-python",
   "name": "python",
   "nbconvert_exporter": "python",
   "pygments_lexer": "ipython3",
   "version": "3.8.10"
  },
  "latex_envs": {
   "LaTeX_envs_menu_present": true,
   "autoclose": false,
   "autocomplete": true,
   "bibliofile": "biblio.bib",
   "cite_by": "apalike",
   "current_citInitial": 1,
   "eqLabelWithNumbers": true,
   "eqNumInitial": 1,
   "hotkeys": {
    "equation": "Ctrl-E",
    "itemize": "Ctrl-I"
   },
   "labels_anchors": false,
   "latex_user_defs": false,
   "report_style_numbering": false,
   "user_envs_cfg": false
  },
  "toc": {
   "base_numbering": 1,
   "nav_menu": {},
   "number_sections": true,
   "sideBar": true,
   "skip_h1_title": false,
   "title_cell": "Table of Contents",
   "title_sidebar": "Contents",
   "toc_cell": false,
   "toc_position": {},
   "toc_section_display": true,
   "toc_window_display": false
  },
  "varInspector": {
   "cols": {
    "lenName": 16,
    "lenType": 16,
    "lenVar": 40
   },
   "kernels_config": {
    "python": {
     "delete_cmd_postfix": "",
     "delete_cmd_prefix": "del ",
     "library": "var_list.py",
     "varRefreshCmd": "print(var_dic_list())"
    },
    "r": {
     "delete_cmd_postfix": ") ",
     "delete_cmd_prefix": "rm(",
     "library": "var_list.r",
     "varRefreshCmd": "cat(var_dic_list()) "
    }
   },
   "types_to_exclude": [
    "module",
    "function",
    "builtin_function_or_method",
    "instance",
    "_Feature"
   ],
   "window_display": false
  }
 },
 "nbformat": 4,
 "nbformat_minor": 2
}
